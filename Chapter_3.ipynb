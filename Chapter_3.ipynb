{
  "nbformat": 4,
  "nbformat_minor": 0,
  "metadata": {
    "colab": {
      "name": "Chapter-3.ipynb",
      "provenance": [],
      "collapsed_sections": [],
      "authorship_tag": "ABX9TyNLPRU6DtRVyIBY+81P6ld8",
      "include_colab_link": true
    },
    "kernelspec": {
      "name": "python3",
      "display_name": "Python 3"
    },
    "language_info": {
      "name": "python"
    }
  },
  "cells": [
    {
      "cell_type": "markdown",
      "metadata": {
        "id": "view-in-github",
        "colab_type": "text"
      },
      "source": [
        "<a href=\"https://colab.research.google.com/github/Raylynd6299/Intro-to-Learn-DRL/blob/main/Chapter_3.ipynb\" target=\"_parent\"><img src=\"https://colab.research.google.com/assets/colab-badge.svg\" alt=\"Open In Colab\"/></a>"
      ]
    },
    {
      "cell_type": "code",
      "metadata": {
        "id": "p5ijiZw9Jv0l"
      },
      "source": [
        ""
      ],
      "execution_count": null,
      "outputs": []
    },
    {
      "cell_type": "markdown",
      "metadata": {
        "id": "ZVOMym4rK0Qs"
      },
      "source": [
        "# Policy Evaluation "
      ]
    },
    {
      "cell_type": "code",
      "metadata": {
        "id": "Br-UqNgILMTO"
      },
      "source": [
        "import numpy as np\n",
        "import tensorflow as tf\n"
      ],
      "execution_count": 1,
      "outputs": []
    },
    {
      "cell_type": "code",
      "metadata": {
        "id": "Kpl9_zSmL4MS"
      },
      "source": [
        "P= {\n",
        "    0: {   #State- Example state 0\n",
        "        0: [(1.0,0,0.0, True)], #Action (Action 0) : Possible transitions for that (State, Action)\n",
        "        1: [(1.0,0,0.0, True)]  #[probabilit of that transition, next state, reward, flag thath indicated if the next state is terminal]\n",
        "    },\n",
        "    1: {\n",
        "        0: [(1.0,0,0.0, True)],\n",
        "        1: [(1.0,2,1.0, True)]\n",
        "    },\n",
        "    2: {\n",
        "        0: [(1.0,2,0.0, True)],\n",
        "        1: [(1.0,2,0.0, True)]\n",
        "    }\n",
        "}"
      ],
      "execution_count": 2,
      "outputs": []
    },
    {
      "cell_type": "code",
      "metadata": {
        "id": "KbRqH_0SLXCe"
      },
      "source": [
        "def policy_evaluation( pi, P, gamma=1.0, theta=1e-10 ):\n",
        "  pre_V = np.zeros(len(P))\n",
        "  while True:\n",
        "    V = np.zeros(len(P))\n",
        "    for s in range(len(P)):\n",
        "      for prob, next_state, reward, done in P[s][pi(s)]:\n",
        "        V[s] += prob * ( reward + gamma * pre_V[next_state] * (not done));\n",
        "    if np.max(np.abs(pre_V - V)) < theta:\n",
        "      break\n",
        "    pre_V = V.copy()\n",
        "  return pre_V"
      ],
      "execution_count": 5,
      "outputs": []
    },
    {
      "cell_type": "code",
      "metadata": {
        "id": "OKja5GLfPtJ3"
      },
      "source": [
        "def policy_improvement(V, P, gamma=1.0):\n",
        "  Q = np.zeros((len(P), len(P[0])), dtype=np.float64)\n",
        "  for s in range(len(P)):\n",
        "    for a in range(len(P[s])):\n",
        "      for prob, next_state, reward, done in P[s][a]:\n",
        "        Q[s][a] += prob * (reward + gamma * V[next_state] * (not done))\n",
        "  new_pi = lambda s: {s:a for s, a in enumerate(np.argmax(Q, axis=1))}[s]\n",
        "  return new_pi"
      ],
      "execution_count": 4,
      "outputs": []
    },
    {
      "cell_type": "code",
      "metadata": {
        "id": "gEwZGgb8QXXK"
      },
      "source": [
        "def policy_iteration(P, gamma=1.0, theta=1e-10):\n",
        "  random_actions = np.random.choice(tuple(P[0].keys()), len(P))\n",
        "  pi = lambda s: {s:a for s, a in enumerate(random_actions)}[s]\n",
        "  while True:\n",
        "    old_pi = {s:pi(s) for s in range(len(P))}\n",
        "    V = policy_evaluation(pi, P, gamma, theta)\n",
        "    pi = policy_improvement(V, P, gamma)\n",
        "    if old_pi == {s:pi(s) for s in range(len(P))}:\n",
        "      break\n",
        "  return V, pi"
      ],
      "execution_count": 6,
      "outputs": []
    },
    {
      "cell_type": "code",
      "metadata": {
        "id": "ktymYTfMQuJU"
      },
      "source": [
        "def value_iteration(P, gamma=1.0, theta=1e-10):\n",
        "  V = np.zeros(len(P), dtype=np.float64)\n",
        "  while True:\n",
        "    Q = np.zeros((len(P), len(P[0])), dtype=np.float64)\n",
        "    for s in range(len(P)):\n",
        "      for a in range(len(P[s])):\n",
        "        for prob, next_state, reward, done in P[s][a]:\n",
        "          Q[s][a] += prob * (reward + gamma * V[next_state] * (not done))\n",
        "    if np.max(np.abs(V - np.max(Q, axis=1))) < theta:\n",
        "      break\n",
        "    V = np.max(Q, axis=1)\n",
        "  pi = lambda s: {s:a for s, a in enumerate(np.argmax(Q, axis=1))}[s]\n",
        "  return V, pi"
      ],
      "execution_count": 7,
      "outputs": []
    }
  ]
}