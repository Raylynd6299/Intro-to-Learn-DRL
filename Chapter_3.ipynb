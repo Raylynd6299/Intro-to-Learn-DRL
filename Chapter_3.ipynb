{
  "nbformat": 4,
  "nbformat_minor": 0,
  "metadata": {
    "colab": {
      "name": "Chapter-3.ipynb",
      "provenance": [],
      "collapsed_sections": [],
      "authorship_tag": "ABX9TyP+MLefET4WsU6wzk3KvzoM",
      "include_colab_link": true
    },
    "kernelspec": {
      "name": "python3",
      "display_name": "Python 3"
    },
    "language_info": {
      "name": "python"
    }
  },
  "cells": [
    {
      "cell_type": "markdown",
      "metadata": {
        "id": "view-in-github",
        "colab_type": "text"
      },
      "source": [
        "<a href=\"https://colab.research.google.com/github/Raylynd6299/Intro-to-Learn-DRL/blob/main/Chapter_3.ipynb\" target=\"_parent\"><img src=\"https://colab.research.google.com/assets/colab-badge.svg\" alt=\"Open In Colab\"/></a>"
      ]
    },
    {
      "cell_type": "markdown",
      "metadata": {
        "id": "ZVOMym4rK0Qs"
      },
      "source": [
        "# Policy Evaluation "
      ]
    },
    {
      "cell_type": "code",
      "metadata": {
        "id": "Br-UqNgILMTO"
      },
      "source": [
        "import numpy as np\n",
        "import tensorflow as tf\n"
      ],
      "execution_count": 7,
      "outputs": []
    },
    {
      "cell_type": "code",
      "metadata": {
        "id": "Kpl9_zSmL4MS"
      },
      "source": [
        "P_BW = {\n",
        "    0: {   #State- Example state 0\n",
        "        0: [(1.0,0,0.0, True)], #Action (Action 0) : Possible transitions for that (State, Action)\n",
        "        1: [(1.0,0,0.0, True)]  #[probabilit of that transition, next state, reward, flag thath indicated if the next state is terminal]\n",
        "    },\n",
        "    1: {\n",
        "        0: [(1.0,0,0.0, True)],\n",
        "        1: [(1.0,2,1.0, True)]\n",
        "    },\n",
        "    2: {\n",
        "        0: [(1.0,2,0.0, True)],\n",
        "        1: [(1.0,2,0.0, True)]\n",
        "    }\n",
        "}"
      ],
      "execution_count": 4,
      "outputs": []
    },
    {
      "cell_type": "code",
      "metadata": {
        "id": "cpR0a7r4Te_a"
      },
      "source": [
        "P_FL = {\n",
        "\t\t0:\t{\n",
        "\t\t\t0:\t[ (0.6666666666666, 0, 0.0, False),\n",
        "            (0.3333333333333, 4, 0.0, False),\n",
        "          ],\n",
        "\t\t\t1:  [ (0.3333333333333, 0, 0.0, False),\n",
        "            (0.3333333333333, 4, 0.0, False),\n",
        "            (0.3333333333333, 1, 0.0, False),\n",
        "          ],\n",
        "\t\t\t2:  [ (0.3333333333333, 0, 0.0, False),\n",
        "            (0.3333333333333, 4, 0.0, False),\n",
        "            (0.3333333333333, 1, 0.0, False),\n",
        "          ],\n",
        "\t\t\t3: \t[ (0.6666666666666, 0, 0.0, False),\n",
        "            (0.3333333333333, 1, 0.0, False),\n",
        "          ],\n",
        "\t\t\t},\n",
        "\t\t1:\t{\n",
        "\t\t\t0:\t[ (0.3333333333333, 5, 0.0, False),\n",
        "            (0.3333333333333, 0, 0.0, False),\n",
        "            (0.3333333333333, 1, 0.0, False),\n",
        "          ],\n",
        "\t\t\t1:  [ (0.3333333333333, 0, 0.0, False),\n",
        "            (0.3333333333333, 2, 0.0, False),\n",
        "            (0.3333333333333, 5, 0.0, False),\n",
        "          ],\n",
        "\t\t\t2:  [ (0.3333333333333, 1, 0.0, False),\n",
        "            (0.3333333333333, 2, 0.0, False),\n",
        "            (0.3333333333333, 5, 0.0, False),\n",
        "          ],\n",
        "\t\t\t3: \t[ (0.3333333333333, 1, 0.0, False),\n",
        "            (0.3333333333333, 0, 0.0, False),\n",
        "            (0.3333333333333, 2, 0.0, False),\n",
        "          ],\n",
        "\t\t\t},\n",
        "\t\t2:\t{\n",
        "\t\t\t0:\t[ (0.3333333333333, 2, 0.0, False),\n",
        "            (0.3333333333333, 6, 0.0, False),\n",
        "            (0.3333333333333, 1, 0.0, False),\n",
        "          ],\n",
        "\t\t\t1:  [ (0.3333333333333, 1, 0.0, False),\n",
        "            (0.3333333333333, 6, 0.0, False),\n",
        "            (0.3333333333333, 3, 0.0, False),\n",
        "          ],\n",
        "\t\t\t2:  [ (0.3333333333333, 3, 0.0, False),\n",
        "            (0.3333333333333, 2, 0.0, False),\n",
        "            (0.3333333333333, 6, 0.0, False),\n",
        "          ],\n",
        "\t\t\t3: \t[ (0.3333333333333, 1, 0.0, False),\n",
        "            (0.3333333333333, 3, 0.0, False),\n",
        "            (0.3333333333333, 2, 0.0, False),\n",
        "          ],\n",
        "\t\t\t},\n",
        "\t\t3:\t{\n",
        "\t\t\t0:\t[ (0.3333333333333, 2, 0.0, False),\n",
        "            (0.3333333333333, 3, 0.0, False),\n",
        "            (0.3333333333333, 7, 0.0, False),\n",
        "          ],\n",
        "\t\t\t1:  [ (0.3333333333333, 2, 0.0, False),\n",
        "            (0.3333333333333, 7, 0.0, False),\n",
        "            (0.3333333333333, 3, 0.0, False),\n",
        "          ],\n",
        "\t\t\t2:  [ (0.3333333333333, 7, 0.0, False),\n",
        "            (0.6666666666666, 3, 0.0, False),\n",
        "          ],\n",
        "\t\t\t3: \t[ (0.3333333333333, 2, 0.0, False),\n",
        "            (0.6666666666666, 3, 0.0, False),\n",
        "          ],\n",
        "\t\t\t},\n",
        "\t\t4: {\n",
        "\t\t\t0:\t[ (0.3333333333333, 4, 0.0, False),\n",
        "            (0.3333333333333, 0, 0.0, False),\n",
        "            (0.3333333333333, 8, 0.0, False),\n",
        "          ],\n",
        "\t\t\t1:  [ (0.3333333333333, 4, 0.0, False),\n",
        "            (0.3333333333333, 8, 0.0, False),\n",
        "            (0.3333333333333, 5, 0.0, False),\n",
        "          ],\n",
        "\t\t\t2:  [ (0.3333333333333, 8, 0.0, False),\n",
        "            (0.3333333333333, 5, 0.0, False),\n",
        "            (0.3333333333333, 0, 0.0, False),\n",
        "          ],\n",
        "\t\t\t3: \t[ (0.3333333333333, 0, 0.0, False),\n",
        "            (0.3333333333333, 4, 0.0, False),\n",
        "            (0.3333333333333, 5, 0.0, False),\n",
        "          ],\n",
        "\t\t\t},\n",
        "\t\t5: {\n",
        "\t\t\t0:\t[ (1, 5, 0.0, False) ],\n",
        "\t\t\t1:\t[ (1, 5, 0.0, False) ],\n",
        "\t\t\t2:\t[ (1, 5, 0.0, False) ],\n",
        "\t\t\t3:\t[ (1, 5, 0.0, False) ],\n",
        "\t\t\t},\t\n",
        "\t\t6: {\n",
        "\t\t\t0:\t[ (0.3333333333333, 2, 0.0, False),\n",
        "\t\t\t\t\t  (0.3333333333333, 5, 0.0, False),\n",
        "\t\t\t\t\t  (0.3333333333333, 10, 0.0, False),\n",
        "\t\t\t\t  ],\n",
        "\t\t\t1:  [ (0.3333333333333, 5, 0.0, False),\n",
        "            (0.3333333333333, 7, 0.0, False),\n",
        "            (0.3333333333333, 10, 0.0, False),\n",
        "          ],\n",
        "\t\t\t2:  [ (0.3333333333333, 7, 0.0, False),\n",
        "            (0.3333333333333, 2, 0.0, False),\n",
        "            (0.3333333333333, 10, 0.0, False),\n",
        "          ],\n",
        "\t\t\t3: \t[ (0.3333333333333, 5, 0.0, False),\n",
        "            (0.3333333333333, 2, 0.0, False),\n",
        "            (0.3333333333333, 7, 0.0, False),\n",
        "          ],\n",
        "\t\t\t},\n",
        "\t\t7: {\n",
        "\t\t\t0:\t[ (1, 7, 0.0, False) ],\n",
        "\t\t\t1:\t[ (1, 7, 0.0, False) ],\n",
        "\t\t\t2:\t[ (1, 7, 0.0, False) ],\n",
        "\t\t\t3:\t[ (1, 7, 0.0, False) ],\n",
        "\t\t\t},\t\n",
        "\t\t8: {\n",
        "\t\t\t0:\t[ (0.3333333333333, 8, 0.0, False),\n",
        "            (0.3333333333333, 4, 0.0, False),\n",
        "            (0.3333333333333, 12, 0.0, False),\n",
        "          ],\n",
        "\t\t\t1:  [ (0.3333333333333, 8, 0.0, False),\n",
        "            (0.3333333333333, 12, 0.0, False),\n",
        "            (0.3333333333333, 9, 0.0, False),\n",
        "          ],\n",
        "\t\t\t2:  [ (0.3333333333333, 9, 0.0, False),\n",
        "            (0.3333333333333, 12, 0.0, False),\n",
        "            (0.3333333333333, 4, 0.0, False),\n",
        "          ],\n",
        "\t\t\t3: \t[ (0.3333333333333, 8, 0.0, False),\n",
        "            (0.3333333333333, 4, 0.0, False),\n",
        "            (0.3333333333333, 9, 0.0, False),\n",
        "          ],\n",
        "\t\t\t},\n",
        "\t\t9: {\n",
        "\t\t\t0:\t[ (0.3333333333333, 8, 0.0, False),\n",
        "            (0.3333333333333, 5, 0.0, False),\n",
        "            (0.3333333333333, 13, 0.0, False),\n",
        "          ],\n",
        "\t\t\t1:  [ (0.3333333333333, 8, 0.0, False),\n",
        "            (0.3333333333333, 10, 0.0, False),\n",
        "            (0.3333333333333, 13, 0.0, False),\n",
        "          ],\n",
        "\t\t\t2:  [ (0.3333333333333, 5, 0.0, False),\n",
        "            (0.3333333333333, 13, 0.0, False),\n",
        "            (0.3333333333333, 10, 0.0, False),\n",
        "          ],\n",
        "\t\t\t3: \t[ (0.3333333333333, 8, 0.0, False),\n",
        "            (0.3333333333333, 5, 0.0, False),\n",
        "            (0.3333333333333, 10, 0.0, False),\n",
        "          ],\n",
        "\t\t\t},\n",
        "\t\t10: {\n",
        "\t\t\t0:\t[ (0.3333333333333, 9, 0.0, False),\n",
        "            (0.3333333333333, 14, 0.0, False),\n",
        "            (0.3333333333333, 6, 0.0, False),\n",
        "          ],\n",
        "\t\t\t1:  [ (0.3333333333333, 9, 0.0, False),\n",
        "            (0.3333333333333, 14, 0.0, False),\n",
        "            (0.3333333333333, 11, 0.0, False),\n",
        "          ],\n",
        "\t\t\t2:  [ (0.3333333333333, 14, 0.0, False),\n",
        "            (0.3333333333333, 11, 0.0, False),\n",
        "            (0.3333333333333, 6, 0.0, False),\n",
        "          ],\n",
        "\t\t\t3: \t[ (0.3333333333333, 6, 0.0, False),\n",
        "            (0.3333333333333, 9, 0.0, False),\n",
        "            (0.3333333333333, 11, 0.0, False),\n",
        "          ],\n",
        "\t\t\t},\n",
        "\t\t11: {\n",
        "\t\t\t0:\t[ (1, 11, 0.0, False) ],\n",
        "\t\t\t1:\t[ (1, 11, 0.0, False) ],\n",
        "\t\t\t2:\t[ (1, 11, 0.0, False) ],\n",
        "\t\t\t3:\t[ (1, 11, 0.0, False) ],\n",
        "\t\t\t},\n",
        "\t\t12: {\n",
        "\t\t\t0:\t[ (1, 12, 0.0, False) ],\n",
        "\t\t\t1:\t[ (1, 12, 0.0, False) ],\n",
        "\t\t\t2:\t[ (1, 12, 0.0, False) ],\n",
        "\t\t\t3:\t[ (1, 12, 0.0, False) ],\n",
        "\t\t\t},\n",
        "\t\t13: {\n",
        "\t\t\t0:\t[ (0.3333333333333, 9, 0.0, False),\n",
        "            (0.3333333333333, 12, 0.0, False),\n",
        "            (0.3333333333333, 13, 0.0, False),\n",
        "          ],\n",
        "\t\t\t1:  [ (0.3333333333333, 12, 0.0, False),\n",
        "            (0.3333333333333, 13, 0.0, False),\n",
        "            (0.3333333333333, 14, 0.0, False),\n",
        "          ],\n",
        "\t\t\t2:  [ (0.3333333333333, 14, 0.0, False),\n",
        "            (0.3333333333333, 13, 0.0, False),\n",
        "            (0.3333333333333, 9, 0.0, False),\n",
        "          ],\n",
        "\t\t\t3: \t[ (0.3333333333333, 9, 0.0, False),\n",
        "            (0.3333333333333, 12, 0.0, False),\n",
        "            (0.3333333333333, 14, 0.0, False),\n",
        "          ],\n",
        "\t\t\t},\n",
        "\t\t14: {\n",
        "\t\t\t0:\t[ (0.3333333333333, 13, 0.0, False),\n",
        "            (0.3333333333333, 14, 0.0, False),\n",
        "            (0.3333333333333, 10, 0.0, False),\n",
        "          ],\n",
        "\t\t\t1:  [ (0.3333333333333, 15, 1.0, True ),\n",
        "            (0.3333333333333, 13, 0.0, False),\n",
        "            (0.3333333333333, 14, 0.0, False),\n",
        "          ],\n",
        "\t\t\t2:  [ (0.3333333333333, 14, 0.0, False),\n",
        "            (0.3333333333333, 15, 1.0, True ),\n",
        "            (0.3333333333333, 10, 0.0, False),\n",
        "          ],\n",
        "\t\t\t3: \t[ (0.3333333333333, 13, 0.0, False),\n",
        "            (0.3333333333333, 10, 0.0, False),\n",
        "            (0.3333333333333, 15, 1.0, True),\n",
        "          ],\n",
        "\t\t\t},\n",
        "\t\t15: {\n",
        "\t\t\t0:\t[ (1, 15, 0.0, True) ],\n",
        "\t\t\t1:\t[ (1, 15, 0.0, True) ],\n",
        "\t\t\t2:\t[ (1, 15, 0.0, True) ],\n",
        "\t\t\t3:\t[ (1, 15, 0.0, True) ],\n",
        "\t\t\t}\n",
        "\t}\n"
      ],
      "execution_count": 5,
      "outputs": []
    },
    {
      "cell_type": "code",
      "metadata": {
        "id": "uHo8oxU-UR7c"
      },
      "source": [
        "P_BSW = {\n",
        "            0: {   #State- Example state 0\n",
        "                0: [(1.0,0,0.0, True)], #Action (Action 0) : Possible transitions for that (State, Action)\n",
        "                1: [(1.0,0,0.0, True)]  #[probabilit of that transition, next state, reward, flag thath indicated if the next state is terminal]\n",
        "            },\n",
        "            1: {\n",
        "                0: [ ( 0.8,0,0.0, True ), ( 0.2,2,1.0, True ) ], #Stochastic\n",
        "                1: [ ( 0.8,2,1.0, True ), ( 0.2,0,0.0, True ) ]\n",
        "            },\n",
        "            2: {\n",
        "                0: [(1.0,2,0.0, True)],\n",
        "                1: [(1.0,2,0.0, True)]\n",
        "            }\n",
        "        }"
      ],
      "execution_count": 107,
      "outputs": []
    },
    {
      "cell_type": "code",
      "metadata": {
        "id": "jc7V0OIHGRzj"
      },
      "source": [
        "def printPolicyEval( ArrayFLMDP, policy ):\n",
        "  if len(list(ArrayFLMDP)) != 16:\n",
        "    return\n",
        "  for index, value in enumerate(ArrayFLMDP):\n",
        "    print(f\"[{index},act = {policy(index)}] = {value}\")"
      ],
      "execution_count": 90,
      "outputs": []
    },
    {
      "cell_type": "code",
      "metadata": {
        "id": "KbRqH_0SLXCe"
      },
      "source": [
        "def policy_evaluation( pi, P, gamma=1.0, theta=1e-10 ):\n",
        "  pre_V = np.zeros(len(P))\n",
        "  numIter = 0\n",
        "  while True:\n",
        "    V = np.zeros(len(P))\n",
        "    for s in range(len(P)):\n",
        "      for prob, next_state, reward, done in P[s][pi(s)]:\n",
        "        V[s] += prob * ( reward + gamma * pre_V[next_state] * (not done));\n",
        "    if np.max(np.abs(pre_V - V)) < theta:\n",
        "      break\n",
        "    else:\n",
        "      numIter += 1\n",
        "    pre_V = V.copy()\n",
        "  return pre_V, numIter"
      ],
      "execution_count": 62,
      "outputs": []
    },
    {
      "cell_type": "code",
      "metadata": {
        "id": "FNpYY8VUGlDT"
      },
      "source": [
        "Direction = {\"L\": 0, \"D\": 1, \"R\": 2, \"U\":3}\n"
      ],
      "execution_count": 15,
      "outputs": []
    },
    {
      "cell_type": "code",
      "metadata": {
        "colab": {
          "base_uri": "https://localhost:8080/"
        },
        "id": "_jiYlnTgm-EU",
        "outputId": "659b4bbf-cf09-4540-89bc-95ea7658e49a"
      },
      "source": [
        "pi_FL_Random = lambda s: {\n",
        "    0: Direction[\"R\"], \n",
        "    1: Direction[\"L\"],\n",
        "    2: Direction[\"D\"],\n",
        "    3: Direction[\"U\"],\n",
        "    4: Direction[\"L\"],\n",
        "    5: Direction[\"L\"],\n",
        "    6: Direction[\"R\"],\n",
        "    7: Direction[\"L\"],\n",
        "    8: Direction[\"U\"],\n",
        "    9: Direction[\"D\"],\n",
        "    10: Direction[\"U\"],\n",
        "    11: Direction[\"L\"],\n",
        "    12: Direction[\"L\"],\n",
        "    13: Direction[\"R\"],\n",
        "    14: Direction[\"D\"],\n",
        "    15: Direction[\"L\"]\n",
        "}[s]\n",
        "Result_P_Eval_Random, numIter = policy_evaluation(pi=pi_FL_Random, P=P_FL, theta=1e-10)\n",
        "\n",
        "printPolicyEval(Result_P_Eval_Random, pi_FL_Random)\n",
        "print(f\"Num Iteraciones = {numIter}\")"
      ],
      "execution_count": 91,
      "outputs": [
        {
          "output_type": "stream",
          "name": "stdout",
          "text": [
            "[0,act = 2] = 0.11764705778090763\n",
            "[1,act = 0] = 0.058823528823141055\n",
            "[2,act = 1] = 0.05882352873740604\n",
            "[3,act = 3] = 0.058823528537432716\n",
            "[4,act = 0] = 0.1764705869771354\n",
            "[5,act = 0] = 0.0\n",
            "[6,act = 2] = 0.05882352900588036\n",
            "[7,act = 0] = 0.0\n",
            "[8,act = 3] = 0.2352941164611231\n",
            "[9,act = 1] = 0.29411764621636016\n",
            "[10,act = 3] = 0.11764705837306869\n",
            "[11,act = 0] = 0.0\n",
            "[12,act = 0] = 0.0\n",
            "[13,act = 2] = 0.5294117640075989\n",
            "[14,act = 1] = 0.7647058819586243\n",
            "[15,act = 0] = 0.0\n",
            "Num Iteraciones = 244\n"
          ]
        }
      ]
    },
    {
      "cell_type": "code",
      "metadata": {
        "colab": {
          "base_uri": "https://localhost:8080/"
        },
        "id": "AZE9-J61KA4L",
        "outputId": "d9ca7e94-d6ab-4b79-b360-df68516f791e"
      },
      "source": [
        "pi_FL_GoGetIt = lambda s: {\n",
        "    0: Direction[\"R\"], \n",
        "    1: Direction[\"R\"],\n",
        "    2: Direction[\"D\"],\n",
        "    3: Direction[\"L\"],\n",
        "    4: Direction[\"D\"],\n",
        "    5: Direction[\"L\"],\n",
        "    6: Direction[\"D\"],\n",
        "    7: Direction[\"L\"],\n",
        "    8: Direction[\"R\"],\n",
        "    9: Direction[\"R\"],\n",
        "    10: Direction[\"D\"],\n",
        "    11: Direction[\"L\"],\n",
        "    12: Direction[\"L\"],\n",
        "    13: Direction[\"R\"],\n",
        "    14: Direction[\"R\"],\n",
        "    15: Direction[\"L\"]\n",
        "}[s]\n",
        "Result_P_Eval_GoGetIt, numIter = policy_evaluation( pi=pi_FL_GoGetIt, P=P_FL )\n",
        "\n",
        "printPolicyEval(Result_P_Eval_GoGetIt, pi_FL_Random)\n",
        "print(f\"Num Iteraciones = {numIter}\")"
      ],
      "execution_count": 68,
      "outputs": [
        {
          "output_type": "stream",
          "name": "stdout",
          "text": [
            "[0,act = 2] = 0.037499999788090856\n",
            "[1,act = 0] = 0.024999999876243996\n",
            "[2,act = 1] = 0.04999999985509304\n",
            "[3,act = 3] = 0.024999999876243996\n",
            "[4,act = 0] = 0.049999999875692785\n",
            "[5,act = 0] = 0.0\n",
            "[6,act = 2] = 0.09999999993294441\n",
            "[7,act = 0] = 0.0\n",
            "[8,act = 3] = 0.09999999985452872\n",
            "[9,act = 1] = 0.24999999980859222\n",
            "[10,act = 3] = 0.29999999985446874\n",
            "[11,act = 0] = 0.0\n",
            "[12,act = 0] = 0.0\n",
            "[13,act = 2] = 0.44999999973011656\n",
            "[14,act = 1] = 0.6499999998755728\n",
            "[15,act = 0] = 0.0\n",
            "Num Iteraciones = 67\n"
          ]
        }
      ]
    },
    {
      "cell_type": "code",
      "metadata": {
        "colab": {
          "base_uri": "https://localhost:8080/"
        },
        "id": "J6GPYjOnKbWs",
        "outputId": "2575660c-e46a-4fbe-8985-a303cef948c7"
      },
      "source": [
        "pi_FL_Careful = lambda s: {\n",
        "    0: Direction[\"L\"], \n",
        "    1: Direction[\"U\"],\n",
        "    2: Direction[\"U\"],\n",
        "    3: Direction[\"U\"],\n",
        "    4: Direction[\"L\"],\n",
        "    5: Direction[\"L\"],\n",
        "    6: Direction[\"U\"],\n",
        "    7: Direction[\"L\"],\n",
        "    8: Direction[\"U\"],\n",
        "    9: Direction[\"D\"],\n",
        "    10: Direction[\"L\"],\n",
        "    11: Direction[\"L\"],\n",
        "    12: Direction[\"L\"],\n",
        "    13: Direction[\"R\"],\n",
        "    14: Direction[\"R\"],\n",
        "    15: Direction[\"L\"]\n",
        "}[s]\n",
        "Result_P_Eval_Careful, numIter = policy_evaluation( pi=pi_FL_Careful, P=P_FL)\n",
        "\n",
        "printPolicyEval(Result_P_Eval_Careful, pi_FL_Careful)\n",
        "print(f\"Num Iteraciones = {numIter}\")"
      ],
      "execution_count": 69,
      "outputs": [
        {
          "output_type": "stream",
          "name": "stdout",
          "text": [
            "[0,act = 0] = 0.5999999977965138\n",
            "[1,act = 3] = 0.599999996999603\n",
            "[2,act = 3] = 0.5999999964319132\n",
            "[3,act = 3] = 0.5999999961367988\n",
            "[4,act = 0] = 0.5999999979648764\n",
            "[5,act = 0] = 0.0\n",
            "[6,act = 3] = 0.19999999877956037\n",
            "[7,act = 0] = 0.0\n",
            "[8,act = 3] = 0.599999998288749\n",
            "[9,act = 1] = 0.5999999987434088\n",
            "[10,act = 0] = 0.5199999989694374\n",
            "[11,act = 0] = 0.0\n",
            "[12,act = 0] = 0.0\n",
            "[13,act = 2] = 0.679999999068124\n",
            "[14,act = 2] = 0.7599999994641584\n",
            "[15,act = 0] = 0.0\n",
            "Num Iteraciones = 757\n"
          ]
        }
      ]
    },
    {
      "cell_type": "code",
      "metadata": {
        "id": "OKja5GLfPtJ3"
      },
      "source": [
        "def policy_improvement(V, P, gamma=1.0):\n",
        "  Q = np.zeros((len(P), len(P[0])), dtype=np.float64)\n",
        "  for s in range(len(P)):\n",
        "    for a in range(len(P[s])):\n",
        "      for prob, next_state, reward, done in P[s][a]:\n",
        "        Q[s][a] += prob * (reward + gamma * V[next_state] * (not done))\n",
        "  new_pi = lambda s: {s:a for s, a in enumerate(np.argmax(Q, axis=1))}[s]\n",
        "  return new_pi"
      ],
      "execution_count": 59,
      "outputs": []
    },
    {
      "cell_type": "code",
      "metadata": {
        "id": "40MvDTyKUMRY"
      },
      "source": [
        "def printPiFunction( stateIndexArray, piFunction ):\n",
        "  Direction = { 0:\"L\", 1:\"D\", 2:\"R\", 3:\"U\"}\n",
        "  for stateIndex in stateIndexArray:\n",
        "    print(f\"[{stateIndex}] = {Direction[piFunction(stateIndex)]}\")"
      ],
      "execution_count": 73,
      "outputs": []
    },
    {
      "cell_type": "code",
      "metadata": {
        "colab": {
          "base_uri": "https://localhost:8080/"
        },
        "id": "GUURrKjnSEjv",
        "outputId": "bda80b20-acb2-4fea-d538-f4879ca682fd"
      },
      "source": [
        "## Improve Random Policy\n",
        "V_function_Value_Random_policy = Result_P_Eval_Random\n",
        "CarefulPlusPolicy1 = policy_improvement(V = V_function_Value_Random_policy, P = P_FL)\n",
        "\n",
        "printPiFunction([index for index in range(len(P_FL))],CarefulPlusPolicy1)\n"
      ],
      "execution_count": 76,
      "outputs": [
        {
          "output_type": "stream",
          "name": "stdout",
          "text": [
            "[0] = L\n",
            "[1] = U\n",
            "[2] = L\n",
            "[3] = U\n",
            "[4] = L\n",
            "[5] = L\n",
            "[6] = L\n",
            "[7] = L\n",
            "[8] = U\n",
            "[9] = D\n",
            "[10] = L\n",
            "[11] = L\n",
            "[12] = L\n",
            "[13] = R\n",
            "[14] = D\n",
            "[15] = L\n"
          ]
        }
      ]
    },
    {
      "cell_type": "code",
      "metadata": {
        "colab": {
          "base_uri": "https://localhost:8080/"
        },
        "id": "ALMhVINJVYeC",
        "outputId": "0a083431-4329-4c59-a0dc-b439d8a25dfa"
      },
      "source": [
        "## Improve GoGetIt Policy\n",
        "V_function_Value_GoGetIt_policy = Result_P_Eval_GoGetIt\n",
        "CarefulPlusPolicy2 = policy_improvement(V = V_function_Value_GoGetIt_policy, P = P_FL)\n",
        "\n",
        "printPiFunction([index for index in range(len(P_FL))],CarefulPlusPolicy2)"
      ],
      "execution_count": 77,
      "outputs": [
        {
          "output_type": "stream",
          "name": "stdout",
          "text": [
            "[0] = L\n",
            "[1] = U\n",
            "[2] = R\n",
            "[3] = U\n",
            "[4] = L\n",
            "[5] = L\n",
            "[6] = L\n",
            "[7] = L\n",
            "[8] = U\n",
            "[9] = D\n",
            "[10] = L\n",
            "[11] = L\n",
            "[12] = L\n",
            "[13] = R\n",
            "[14] = D\n",
            "[15] = L\n"
          ]
        }
      ]
    },
    {
      "cell_type": "code",
      "metadata": {
        "colab": {
          "base_uri": "https://localhost:8080/"
        },
        "id": "pfKYFEKAVkj5",
        "outputId": "c73b4d4c-ef6c-4317-ea21-3175e6a4ceef"
      },
      "source": [
        "## Improve Careful Policy\n",
        "V_function_Value_Careful_policy = Result_P_Eval_Careful\n",
        "CarefulPlusPolicy3 = policy_improvement(V = V_function_Value_Careful_policy, P = P_FL)\n",
        "\n",
        "printPiFunction([index for index in range(len(P_FL))],CarefulPlusPolicy3)"
      ],
      "execution_count": 78,
      "outputs": [
        {
          "output_type": "stream",
          "name": "stdout",
          "text": [
            "[0] = L\n",
            "[1] = U\n",
            "[2] = U\n",
            "[3] = U\n",
            "[4] = L\n",
            "[5] = L\n",
            "[6] = L\n",
            "[7] = L\n",
            "[8] = U\n",
            "[9] = D\n",
            "[10] = L\n",
            "[11] = L\n",
            "[12] = L\n",
            "[13] = R\n",
            "[14] = D\n",
            "[15] = L\n"
          ]
        }
      ]
    },
    {
      "cell_type": "code",
      "metadata": {
        "id": "gEwZGgb8QXXK"
      },
      "source": [
        "def policy_iteration(P, gamma=1.0, theta=1e-10):\n",
        "  random_actions = np.random.choice(tuple(P[0].keys()), len(P))\n",
        "  ## Get Random policy\n",
        "  pi = lambda s: {s:a for s, a in enumerate(random_actions)}[s]\n",
        "  while True:\n",
        "    old_pi = {s:pi(s) for s in range(len(P))}\n",
        "    V,_ = policy_evaluation(pi, P, gamma, theta)\n",
        "    pi = policy_improvement(V, P, gamma)\n",
        "    if old_pi == {s:pi(s) for s in range(len(P))}:\n",
        "      break\n",
        "  return V, pi"
      ],
      "execution_count": 102,
      "outputs": []
    },
    {
      "cell_type": "code",
      "metadata": {
        "colab": {
          "base_uri": "https://localhost:8080/"
        },
        "id": "b2L5FiZjWnX1",
        "outputId": "0c69de1b-a0ff-4378-f304-d757cc25cbd0"
      },
      "source": [
        "## Get the best policy P PL\n",
        "improveValue, improvePiPolicy = policy_iteration( P = P_FL )\n",
        "\n",
        "printPolicyEval(Result_P_Eval_Careful, pi_FL_Careful)\n",
        "printPiFunction([index for index in range(len(P_FL))],improvePiPolicy)"
      ],
      "execution_count": 105,
      "outputs": [
        {
          "output_type": "stream",
          "name": "stdout",
          "text": [
            "[0,act = 0] = 0.5999999977965138\n",
            "[1,act = 3] = 0.599999996999603\n",
            "[2,act = 3] = 0.5999999964319132\n",
            "[3,act = 3] = 0.5999999961367988\n",
            "[4,act = 0] = 0.5999999979648764\n",
            "[5,act = 0] = 0.0\n",
            "[6,act = 3] = 0.19999999877956037\n",
            "[7,act = 0] = 0.0\n",
            "[8,act = 3] = 0.599999998288749\n",
            "[9,act = 1] = 0.5999999987434088\n",
            "[10,act = 0] = 0.5199999989694374\n",
            "[11,act = 0] = 0.0\n",
            "[12,act = 0] = 0.0\n",
            "[13,act = 2] = 0.679999999068124\n",
            "[14,act = 2] = 0.7599999994641584\n",
            "[15,act = 0] = 0.0\n",
            "[0] = L\n",
            "[1] = U\n",
            "[2] = U\n",
            "[3] = U\n",
            "[4] = L\n",
            "[5] = L\n",
            "[6] = L\n",
            "[7] = L\n",
            "[8] = U\n",
            "[9] = D\n",
            "[10] = L\n",
            "[11] = L\n",
            "[12] = L\n",
            "[13] = R\n",
            "[14] = D\n",
            "[15] = L\n"
          ]
        }
      ]
    },
    {
      "cell_type": "code",
      "metadata": {
        "colab": {
          "base_uri": "https://localhost:8080/"
        },
        "id": "VcKUOapqaKHj",
        "outputId": "e5549a9d-e0bd-42e4-c9c6-b6dc83a66ac3"
      },
      "source": [
        "## Get the best policy P BSW\n",
        "improveValue, improvePiPolicy = policy_iteration( P = P_BSW )\n",
        "\n",
        "printPolicyEval(Result_P_Eval_Careful, pi_FL_Careful)\n",
        "printPiFunction([index for index in range(len(P_BSW))],improvePiPolicy)"
      ],
      "execution_count": 109,
      "outputs": [
        {
          "output_type": "stream",
          "name": "stdout",
          "text": [
            "[0,act = 0] = 0.5999999977965138\n",
            "[1,act = 3] = 0.599999996999603\n",
            "[2,act = 3] = 0.5999999964319132\n",
            "[3,act = 3] = 0.5999999961367988\n",
            "[4,act = 0] = 0.5999999979648764\n",
            "[5,act = 0] = 0.0\n",
            "[6,act = 3] = 0.19999999877956037\n",
            "[7,act = 0] = 0.0\n",
            "[8,act = 3] = 0.599999998288749\n",
            "[9,act = 1] = 0.5999999987434088\n",
            "[10,act = 0] = 0.5199999989694374\n",
            "[11,act = 0] = 0.0\n",
            "[12,act = 0] = 0.0\n",
            "[13,act = 2] = 0.679999999068124\n",
            "[14,act = 2] = 0.7599999994641584\n",
            "[15,act = 0] = 0.0\n",
            "[0] = L\n",
            "[1] = D\n",
            "[2] = L\n"
          ]
        }
      ]
    },
    {
      "cell_type": "code",
      "metadata": {
        "id": "ktymYTfMQuJU"
      },
      "source": [
        "def value_iteration(P, gamma=1.0, theta=1e-10):\n",
        "  V = np.zeros(len(P), dtype=np.float64)\n",
        "  while True:\n",
        "    Q = np.zeros((len(P), len(P[0])), dtype=np.float64)\n",
        "    for s in range(len(P)):\n",
        "      for a in range(len(P[s])):\n",
        "        for prob, next_state, reward, done in P[s][a]:\n",
        "          Q[s][a] += prob * (reward + gamma * V[next_state] * (not done))\n",
        "    if np.max(np.abs(V - np.max(Q, axis=1))) < theta:\n",
        "      break\n",
        "    V = np.max(Q, axis=1)\n",
        "  pi = lambda s: {s:a for s, a in enumerate(np.argmax(Q, axis=1))}[s]\n",
        "  return V, pi"
      ],
      "execution_count": null,
      "outputs": []
    }
  ]
}